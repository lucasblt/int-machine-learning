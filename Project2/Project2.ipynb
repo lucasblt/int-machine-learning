{
 "cells": [
  {
   "cell_type": "code",
   "execution_count": 174,
   "metadata": {},
   "outputs": [],
   "source": [
    "#02450 - Introduction to Machine Learning and Data Mining\n",
    "#Assignment 2\n",
    "#Students:\n",
    "#Everton Spader - s190045\n",
    "#Lucas Beltram - s182360\n",
    "\n",
    "from matplotlib.pylab import figure, subplot, plot, xlabel, ylabel, hist, show, ylim, xlim\n",
    "import scipy.linalg as linalg\n",
    "import numpy as np\n",
    "import pandas as pd\n",
    "import sklearn.linear_model as lm"
   ]
  },
  {
   "cell_type": "code",
   "execution_count": 195,
   "metadata": {},
   "outputs": [],
   "source": [
    "# Load the csv dataset into a pandas data frame\n",
    "filename = 'https://web.stanford.edu/~hastie/ElemStatLearn//datasets/SAheart.data'\n",
    "df = pd.read_csv(filename)\n",
    "raw_data = df.get_values()\n",
    "\n",
    "X = raw_data[:,1:]\n",
    "N,M = X.shape\n",
    "y = np.zeros(shape=(N,1))\n",
    "\n",
    "classNames = ['CHD Negative','CHD Positive']\n",
    "C = len(classNames)\n",
    "\n",
    "cols = range(1, M+1) "
   ]
  },
  {
   "cell_type": "code",
   "execution_count": 196,
   "metadata": {},
   "outputs": [],
   "source": [
    "#Extract attribute names\n",
    "attributeNames = np.asarray(df.columns[cols]).tolist()\n",
    "\n",
    "#Convert attribute 'famhist' with list comprehension: 0-Absent; 1-Present \n",
    "famHistNames = X[:,4]\n",
    "famHistLabels = np.unique(famHistNames)\n",
    "famHistDict = dict(zip(famHistLabels,[0,1]))\n",
    "famHistLc = np.array([famHistDict[cl] for cl in famHistNames])\n",
    "X = np.hstack((X[:,0:4],np.array([famHistLc]).T,X[:,5:])).astype(np.float)\n",
    "\n",
    "#Attribute to be predicted based on the other attributes\n",
    "obesity_idx = attributeNames.index('obesity')\n",
    "\n",
    "#Attributes to remove for regression\n",
    "famhist_idx = attributeNames.index('famhist')\n",
    "chd_idx = attributeNames.index('chd')"
   ]
  },
  {
   "cell_type": "code",
   "execution_count": 197,
   "metadata": {},
   "outputs": [],
   "source": [
    "#Feature transformation\n",
    "y = X[:,obesity_idx]\n",
    "\n",
    "X = X - np.ones((N,1))*X.mean(0)\n",
    "X = X/np.std(X,0)\n",
    "\n",
    "\n",
    "X_cols = list(range(0,famhist_idx))+ list(range(famhist_idx+1,obesity_idx))+list(range(obesity_idx+1,chd_idx))\n",
    "#X_cols = list(range(0,alcohol_idx))+list(range(alcohol_idx+1,len(attributeNames)))\n",
    "\n",
    "X = X[:,X_cols]"
   ]
  },
  {
   "cell_type": "code",
   "execution_count": 198,
   "metadata": {},
   "outputs": [],
   "source": [
    "#Fit ordinary least squares regression model\n",
    "model = lm.LinearRegression()\n",
    "model.fit(X,y)\n",
    "\n",
    "#Predict alcohol consumption\n",
    "y_est = model.predict(X)\n",
    "residual = y_est-y"
   ]
  },
  {
   "cell_type": "code",
   "execution_count": 199,
   "metadata": {},
   "outputs": [
    {
     "data": {
      "text/plain": [
       "Text(0, 0.5, 'Obesity (estimated)')"
      ]
     },
     "execution_count": 199,
     "metadata": {},
     "output_type": "execute_result"
    },
    {
     "data": {
      "image/png": "[encoded data removed]",
      "text/plain": [
       "<Figure size 720x1080 with 1 Axes>"
      ]
     },
     "metadata": {
      "needs_background": "light"
     },
     "output_type": "display_data"
    }
   ],
   "source": [
    "#Display result in a scatter plot\n",
    "figure(figsize=(10,15))\n",
    "subplot(2,1,1)\n",
    "plot(y,y_est,'.')\n",
    "#ylim([10,50])\n",
    "#xlim([10,50])\n",
    "xlabel('Obesity (true)')\n",
    "ylabel('Obesity (estimated)')"
   ]
  },
  {
   "cell_type": "code",
   "execution_count": 192,
   "metadata": {},
   "outputs": [
    {
     "data": {
      "text/plain": [
       "array([-1.76785883e-01,  6.71372906e-01,  7.35519369e-01,  1.41262092e+00,\n",
       "       -1.28560332e-02,  1.12277394e+00, -1.24351781e+00, -6.97084972e-01,\n",
       "       -2.81320860e-01,  9.65971477e-01,  1.81959151e-01, -7.01836562e-01,\n",
       "       -1.06295739e+00, -5.73543636e-01, -5.97301585e-01, -3.66139824e-02,\n",
       "       -1.74410088e-01,  1.58842975e+00,  7.73532088e-01,  9.61219887e-01,\n",
       "       -1.21738406e+00,  2.75324806e-02, -3.33588348e-01,  6.30984392e-01,\n",
       "        3.46598654e-02, -6.68575433e-01,  3.03053727e+00, -1.20788088e+00,\n",
       "        8.04417422e-01,  4.81309312e-01, -9.94059338e-01, -9.29912875e-01,\n",
       "        4.81309312e-01,  9.99232606e-01,  9.01825014e-01, -1.55712274e+00,\n",
       "        3.12627872e-01,  1.15365928e+00, -2.81320860e-01,  3.88653310e-01,\n",
       "        1.17266564e+00, -5.45034097e-01, -9.25161286e-01,  5.84178147e-02,\n",
       "        4.87890572e+00, -7.35097691e-01, -7.93782911e-02,  9.42213528e-01,\n",
       "       -1.39556868e+00,  1.06575486e+00,  7.04634035e-01,  2.72239358e-01,\n",
       "        6.16729623e-01, -8.06371539e-01, -5.07021378e-01,  1.24940073e-01,\n",
       "       -5.26027738e-01, -1.24518395e-01, -7.37473486e-01, -8.39632668e-01,\n",
       "       -5.68792046e-01, -9.36330607e-02,  3.94114553e-02,  2.81742538e-01,\n",
       "       -9.44167645e-01, -2.48059731e-01,  5.81092699e-01, -9.41791850e-01,\n",
       "        7.04634035e-01, -1.18412293e+00, -1.63789976e+00, -1.95625628e+00,\n",
       "       -6.74993165e-02, -1.97051105e+00,  4.31417618e-01, -1.04157524e+00,\n",
       "        7.40270959e-01,  2.72239358e-01, -4.26244351e-01, -7.70024962e-02,\n",
       "       -8.20626309e-01,  4.67458736e+00, -1.43524754e-01,  7.97999690e-02,\n",
       "       -1.25777258e+00,  3.50640591e-01, -1.58563228e+00,  4.24290234e-01,\n",
       "       -9.75052979e-01,  5.45455775e-01, -1.05820580e+00,  1.07525804e+00,\n",
       "        7.42646754e-01, -2.12422807e-01,  9.77850452e-01, -1.30766427e+00,\n",
       "        3.77453134e-03,  3.67271155e-01,  2.43729819e-01, -6.18683740e-01,\n",
       "       -7.96868359e-01,  5.52583160e-01,  1.45776103e+00,  1.17028984e+00,\n",
       "        6.14353828e-01,  1.41570637e-01, -8.91900157e-01,  2.70030177e+00,\n",
       "       -6.09180560e-01, -9.51295030e-01, -1.26894190e-01,  3.22840705e-02,\n",
       "       -1.19125032e+00, -1.83913268e-01, -1.57850489e+00,  5.62086339e-01,\n",
       "       -9.82180364e-01, -1.29340950e+00, -6.40065894e-01,  4.69430337e-01,\n",
       "       -7.56479846e-01, -4.61171622e-02,  3.94114553e-02, -3.00327219e-01,\n",
       "       -3.18623926e-02,  1.68583734e+00,  4.12411259e-01,  1.98993909e+00,\n",
       "        8.06793217e-01,  2.02557602e+00, -2.97951425e-01,  1.28195220e+00,\n",
       "       -3.19333579e-01,  7.71156293e-01,  1.09019161e-02, -4.73760249e-01,\n",
       "       -1.16749237e+00, -1.13898283e+00, -1.31241586e+00,  1.61218770e+00,\n",
       "        1.85927037e+00, -1.60226284e+00, -2.55187116e-01,  1.22730892e+00,\n",
       "       -3.14581989e-01, -9.37040260e-01, -9.39416055e-01,  6.38111777e-01,\n",
       "        7.92538447e-01, -6.70951228e-01, -3.19333579e-01, -4.50002300e-01,\n",
       "       -9.83846506e-02, -8.15874719e-01, -1.01306570e+00, -6.44817484e-01,\n",
       "       -9.53670825e-01,  1.10851917e+00, -5.56203419e-02, -1.00760445e-01,\n",
       "       -2.93199835e-01,  3.34010026e-01, -9.22785491e-01, -1.43595720e+00,\n",
       "       -9.29912875e-01, -5.71167841e-01,  2.60360384e-01, -4.13655723e-02,\n",
       "       -1.28560332e-02,  2.37956946e+00,  7.80659473e-01, -3.76352657e-01,\n",
       "        1.09019161e-02,  8.99449219e-01, -9.48919235e-01,  1.13061098e-01,\n",
       "        4.52799773e-01, -1.39794448e+00,  4.65388400e-02,  4.55175568e-01,\n",
       "        9.73098862e-01,  3.39640969e+00,  2.60360384e-01, -1.08433955e+00,\n",
       "        1.65328586e-01, -9.75052979e-01,  6.73748701e-01, -1.48276344e-01,\n",
       "       -3.12206194e-01, -1.55403729e-01, -3.97734812e-01,  2.35105992e+00,\n",
       "       -5.83046816e-01,  1.03962112e+00, -1.05107842e+00, -9.58422415e-01,\n",
       "       -9.83846506e-02,  1.31758913e+00,  5.24073621e-01, -1.86289063e-01,\n",
       "       -3.47843118e-01, -2.19550192e-01,  9.08952399e-01, -5.30779327e-01,\n",
       "       -2.57562911e-01,  7.83035268e-01,  1.58201202e-01,  5.59710545e-01,\n",
       "       -7.93782911e-02,  1.28195220e+00,  1.98589715e-01,  1.24156369e+00,\n",
       "       -5.73543636e-01,  1.67704381e-01, -8.53887438e-01,  1.21305415e+00,\n",
       "       -8.27753693e-01, -1.08671534e+00, -8.18250514e-01,  3.74398540e-01,\n",
       "       -1.36943494e+00,  3.73377257e+00,  3.17379462e-01, -2.45683936e-01,\n",
       "       -1.55949853e+00, -3.21709374e-01,  2.95997307e-01,  5.43079980e-01,\n",
       "        2.86494128e-01,  6.99882445e-01,  8.52612119e-03,  7.47398344e-01,\n",
       "        8.02041627e-01, -4.00110606e-01, -8.17540861e-02,  3.31634231e-01,\n",
       "        6.66621316e-01,  2.98373102e-01, -6.94709178e-01, -7.94492564e-01,\n",
       "        2.95997307e-01, -8.10444330e-03,  1.09019161e-02,  1.97330853e+00,\n",
       "        6.23857008e-01, -1.05820580e+00, -8.89524362e-01, -2.21925987e-01,\n",
       "       -8.65056759e-02,  7.90162653e-01,  4.26666029e-01, -6.89957588e-01,\n",
       "       -1.23163883e+00, -8.39632668e-01, -5.42658302e-01, -7.82613590e-01,\n",
       "        2.47460126e+00, -5.94925791e-01, -3.69225272e-01,  2.24890074e+00,\n",
       "       -1.80182961e+00, -7.80237795e-01, -1.39556868e+00,  4.17162849e-01,\n",
       "       -6.30562714e-01, -1.43358140e+00, -1.52861320e+00, -2.81320860e-01,\n",
       "       -1.36230755e+00,  3.70356603e-02,  9.42213528e-01,  2.65991326e+00,\n",
       "       -2.52811321e-01, -2.43308141e-01, -9.18033901e-01,  1.22564278e-01,\n",
       "        6.42863367e-01, -5.79961368e-02, -1.93724992e+00, -8.06371539e-01,\n",
       "       -4.69008659e-01, -8.91900157e-01,  3.12627872e-01,  7.74241741e-02,\n",
       "        1.37460820e+00, -9.20409696e-01,  3.83901720e-01, -2.90824040e-01,\n",
       "       -6.68575433e-01,  2.31850844e-01, -9.53670825e-01, -1.47872150e+00,\n",
       "       -6.21059535e-01,  4.33793413e-01,  1.49339795e+00, -5.68792046e-01,\n",
       "       -1.33617381e+00, -8.20626309e-01,  6.15032626e-03,  8.23423782e-01,\n",
       "       -5.33155122e-01,  9.92105221e-01,  2.22751858e+00,  1.93838126e-01,\n",
       "       -8.39632668e-01,  1.29691663e-01,  6.64245521e-01, -1.73293156e+00,\n",
       "        1.09019161e-02,  1.14415610e+00, -9.51295030e-01, -8.88814709e-02,\n",
       "       -4.09613786e-01,  2.77157562e+00,  1.01348738e+00, -8.01619949e-01,\n",
       "       -9.03779131e-01, -5.35530917e-01,  2.36602434e-01, -2.52811321e-01,\n",
       "       -8.88814709e-02, -3.14581989e-01, -3.95359017e-01,  5.85844289e-01,\n",
       "       -1.56900171e+00,  5.59710545e-01,  7.99665832e-01, -1.26014837e+00,\n",
       "       -1.36705914e+00,  3.19755257e-01, -4.85639224e-01,  6.14353828e-01,\n",
       "        6.88003471e-01, -4.97518198e-01,  9.16789437e-02,  2.48481409e-01,\n",
       "        1.79583356e-01,  6.28608597e-01,  1.46488841e+00,  1.01348738e+00,\n",
       "       -3.66139824e-02, -6.49569074e-01, -1.33379801e+00,  1.70080176e-01,\n",
       "       -4.54753890e-01,  5.59710545e-01, -6.74993165e-02, -1.82558756e+00,\n",
       "       -2.52811321e-01, -7.44600871e-01, -3.66849477e-01, -8.63390617e-01,\n",
       "        4.19538644e-01, -1.01068990e+00, -4.66632864e-01, -6.61448049e-01,\n",
       "        1.05933713e-01,  1.71909847e+00,  1.48698022e-01,  2.34226639e-01,\n",
       "        9.68347272e-01,  4.83685107e-01, -3.19333579e-01,  2.17596075e-01,\n",
       "       -1.95792243e-01,  1.56535060e-02,  1.15841087e+00,  5.36662248e-02,\n",
       "       -9.58422415e-01,  7.66404703e-01,  1.15436893e-01, -4.42874915e-01,\n",
       "        7.92538447e-01,  8.93031487e-02,  1.11564656e+00,  3.74398540e-01,\n",
       "       -3.69225272e-01,  2.65111973e-01,  1.73572903e+00,  1.69296473e+00,\n",
       "       -2.93199835e-01,  1.59793293e+00,  1.11802235e+00, -1.12710385e+00,\n",
       "        2.24723460e-01,  1.63119406e+00, -1.00118672e+00, -2.94865977e-02,\n",
       "       -4.38123325e-01, -1.28560332e-02, -4.04862196e-01,  2.14436576e+00,\n",
       "       -5.47409892e-01,  1.55825407e-01,  2.26553130e+00, -1.76076230e-02,\n",
       "        1.12277394e+00, -2.81320860e-01,  2.27099255e-01,  6.07936096e-02,\n",
       "       -5.28403533e-01,  1.08476122e+00, -1.13660703e+00, -2.19550192e-01,\n",
       "        1.33184390e+00,  2.88869923e-01,  1.06813066e+00,  1.42449990e+00,\n",
       "        1.86710741e-01, -2.95575630e-01,  2.95997307e-01,  2.06121294e+00,\n",
       "        5.83468494e-01, -1.29816109e+00,  1.18454461e+00, -3.57346298e-01,\n",
       "       -2.94865977e-02,  9.82602042e-01, -9.25161286e-01, -2.62314501e-01,\n",
       "       -8.65766412e-01, -6.35314304e-01,  4.45672388e-01, -1.18174714e+00,\n",
       "       -5.66416251e-01, -2.67066090e-01,  1.21542994e+00,  6.33360187e-01,\n",
       "       -6.63823843e-01,  2.74615153e-01, -1.39319289e+00, -1.58325648e+00,\n",
       "       -9.75052979e-01, -9.58422415e-01, -1.79232643e+00, -1.07721216e+00,\n",
       "       -1.57779524e-01, -8.20626309e-01, -1.10334591e+00, -9.48919235e-01,\n",
       "        7.02258240e-01, -9.86931954e-01,  6.30984392e-01,  6.79209944e-02,\n",
       "        9.58844092e-01, -1.26965155e+00,  6.83251881e-01, -1.36943494e+00,\n",
       "       -8.99027541e-01,  3.57767976e-01, -1.53811638e+00, -6.35314304e-01,\n",
       "        2.51566857e-02,  1.29620697e+00,  4.90812492e-01, -4.95142404e-01,\n",
       "        1.67633416e+00,  5.71589519e-01,  6.09602238e-01, -1.41457504e+00,\n",
       "        3.10252077e-01, -2.69512851e+00])"
      ]
     },
     "execution_count": 192,
     "metadata": {},
     "output_type": "execute_result"
    }
   ],
   "source": [
    "y"
   ]
  },
  {
   "cell_type": "code",
   "execution_count": null,
   "metadata": {},
   "outputs": [],
   "source": []
  }
 ],
 "metadata": {
  "kernelspec": {
   "display_name": "Python 3",
   "language": "python",
   "name": "python3"
  },
  "language_info": {
   "codemirror_mode": {
    "name": "ipython",
    "version": 3
   },
   "file_extension": ".py",
   "mimetype": "text/x-python",
   "name": "python",
   "nbconvert_exporter": "python",
   "pygments_lexer": "ipython3",
   "version": "3.7.2"
  }
 },
 "nbformat": 4,
 "nbformat_minor": 2
}
